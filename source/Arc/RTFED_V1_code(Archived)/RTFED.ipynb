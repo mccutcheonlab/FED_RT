{
 "cells": [
  {
   "cell_type": "markdown",
   "id": "4a1b258a-acd7-4a84-9839-75d24c8ae0aa",
   "metadata": {},
   "source": [
    "## <font color = \"deepskyblue\"> 1) Install necessary modules and packages and libraries </font>\n"
   ]
  },
  {
   "cell_type": "code",
   "execution_count": null,
   "id": "cf2e27fd-4443-4a16-b93a-ead4a302a297",
   "metadata": {},
   "outputs": [],
   "source": [
    "#installing necessary dependencies and packages \n",
    "!pip install pyserial\n",
    "!pip install --upgrade google-auth google-auth-oauthlib google-auth-httplib2 google-api-python-client\n",
    "!pip install gspread"
   ]
  },
  {
   "cell_type": "markdown",
   "id": "4e8f4d0d-a307-4bdc-a63e-ff4b6977e732",
   "metadata": {},
   "source": [
    "## <font color = \"deepskyblue\"> 2) Once you have your Google Spreadsheet and API credentials ready, replace the fileds based on directories, port numbers, etc on your computer and run the code below</font>"
   ]
  },
  {
   "cell_type": "code",
   "execution_count": null,
   "id": "18208cf8-cf11-4269-b424-26f0d6408340",
   "metadata": {},
   "outputs": [],
   "source": [
    "import serial\n",
    "import threading\n",
    "import datetime  \n",
    "import gspread\n",
    "from google.oauth2.service_account import Credentials\n",
    "\n",
    "# the data coming from serial monitor is separated by \",\" and stored in one single string\n",
    "# Define the column headers based on your desired CSV structure\n",
    "\n",
    "column_headers = [\n",
    "    \"MM/DD/YYYY hh:mm:ss.SSS\", \"Temp\", \"Humidity\", \"Library_Version\", \"Session_type\",\n",
    "    \"Device_Number\", \"Battery_Voltage\", \"Motor_Turns\", \"FR\", \"Event\", \"Active_Poke\",\n",
    "    \"Left_Poke_Count\", \"Right_Poke_Count\", \"Pellet_Count\", \"Block_Pellet_Count\",\n",
    "    \"Retrieval_Time\", \"InterPelletInterval\", \"Poke_Time\"\n",
    "]\n",
    "\n",
    "# Here we setup the Google Sheets\n",
    "SCOPE = [\"https://spreadsheets.google.com/feeds\", 'https://www.googleapis.com/auth/spreadsheets',\n",
    "         \"https://www.googleapis.com/auth/drive.file\", \"https://www.googleapis.com/auth/drive\"]\n",
    "\n",
    "# Path to your downloaded JSON file(the file you downloaded making API on google console service)\n",
    "CREDS_FILE = r\"\"\n",
    "\n",
    "creds = Credentials.from_service_account_file(CREDS_FILE, scopes=SCOPE)\n",
    "client = gspread.authorize(creds)\n",
    "\n",
    "# Replace with the ID of your Google Sheets document\n",
    "# open your spreadsheet on your Google drive, in the address bar, copy the ID which is between \"/d/\" and \"/edit\"\n",
    "SPREADSHEET_ID = \"\"\n",
    "\n",
    "def get_or_create_worksheet(spreadsheet, title):\n",
    "    try:\n",
    "        # Try to open the worksheet by title\n",
    "        sheet = spreadsheet.worksheet(title)\n",
    "        print(f\"Worksheet '{title}' found.\")\n",
    "    except gspread.exceptions.WorksheetNotFound:\n",
    "        # If the worksheet is not found, create it\n",
    "        print(f\"Worksheet '{title}' not found. Creating a new one.\")\n",
    "        sheet = spreadsheet.add_worksheet(title=title, rows=\"1000\", cols=\"20\")\n",
    "        sheet.append_row(column_headers)\n",
    "    return sheet\n",
    "\n",
    "def read_from_port(ser, worksheet_name):\n",
    "    spreadsheet = client.open_by_key(SPREADSHEET_ID)\n",
    "    sheet = get_or_create_worksheet(spreadsheet, worksheet_name)\n",
    "    \n",
    "    while True:\n",
    "        data = ser.readline().decode('utf-8').strip()\n",
    "        data_list = data.split(\",\")  # Split the data string into a list\n",
    "        timestamp = datetime.datetime.now().strftime(\"%Y-%m-%d %H:%M:%S.%f\")[:-3]  # Get current timestamp with milliseconds\n",
    "        # to sync all the FED units with each other, I tend not to rely on FED clock,\n",
    "        # Ignore the first field (timestamp from FED device) and use the computer's timestamp\n",
    "        data_list = data_list[1:]  # Skip the FED device timestamp\n",
    "        \n",
    "        print(f\"Data from {ser.port}: {data}\")\n",
    "\n",
    "        # Assuming the data matches the order of the remaining column_headers\n",
    "        if len(data_list) == len(column_headers) - 1:  # -1 because timestamp is added\n",
    "            # Append the row to Google Sheet\n",
    "            sheet.append_row([timestamp] + data_list)\n",
    "        else:\n",
    "            print(f\"Warning: Data length {len(data_list)} does not match header length {len(column_headers) - 1}\")\n",
    "\n",
    "# Define your ports and baud rate\n",
    "ports = [\"COM5\",\"COM12\",\"COM16\",\"COM19\"]  # Replace with your COM ports, on Mac systems the port number is different and longer\n",
    "baud_rate = 115200\n",
    "\n",
    "# Start reading from each port in a separate thread\n",
    "for port in ports:\n",
    "    worksheet_name = f\"Port_{port}\"  # Create a unique worksheet name for each port\n",
    "    ser = serial.Serial(port, baud_rate)\n",
    "    threading.Thread(target=read_from_port, args=(ser, worksheet_name)).start()\n"
   ]
  },
  {
   "cell_type": "code",
   "execution_count": null,
   "id": "a1f1582f-c3d0-4ca6-b151-e5ced17a1dc9",
   "metadata": {},
   "outputs": [],
   "source": []
  },
  {
   "cell_type": "code",
   "execution_count": 1,
   "id": "ec00caa1-b544-4ea1-ad86-2404d523e305",
   "metadata": {},
   "outputs": [
    {
     "name": "stdout",
     "output_type": "stream",
     "text": [
      "Worksheet 'Port_COM12' not found. Creating a new one.\n",
      "Worksheet 'Port_COM16' not found. Creating a new one.\n",
      "Worksheet 'Port_COM19' not found. Creating a new one.\n",
      "Worksheet 'Port_COM5' not found. Creating a new one.\n",
      "Data from COM5: 8/29/2024 10:52:22,25.47,56.35,1.16.3,FR1,4,3.63,NaN,1,Right,Left,0,1,0,0,NaN,NaN,0.00\n",
      "Data from COM5: 8/29/2024 10:52:28,25.49,56.37,1.16.3,FR1,4,3.63,NaN,1,Right,Left,0,2,0,0,NaN,NaN,0.01\n",
      "Data from COM5: 8/29/2024 10:52:30,25.47,56.38,1.16.3,FR1,4,3.63,NaN,1,Right,Left,0,3,0,0,NaN,NaN,0.05\n",
      "Data from COM5: 8/29/2024 10:52:31,25.50,56.40,1.16.3,FR1,4,3.63,NaN,1,Right,Left,0,4,0,0,NaN,NaN,0.00\n",
      "Data from COM5: 8/29/2024 10:52:32,25.49,56.37,1.16.3,FR1,4,3.64,NaN,1,Right,Left,0,5,0,0,NaN,NaN,0.00\n",
      "Data from COM5: 8/29/2024 10:52:33,25.50,56.41,1.16.3,FR1,4,3.63,NaN,1,Right,Left,0,6,0,0,NaN,NaN,0.07\n",
      "Data from COM19: 8/29/2024 10:57:02,25.31,55.11,1.16.3,FR1,11,3.76,NaN,1,Right,Left,0,1,0,0,NaN,NaN,0.00\n",
      "Data from COM19: 8/29/2024 10:57:05,25.30,55.11,1.16.3,FR1,11,3.76,NaN,1,Right,Left,0,2,0,0,NaN,NaN,0.00\n",
      "Data from COM19: 8/29/2024 10:57:08,25.32,55.10,1.16.3,FR1,11,3.76,NaN,1,Right,Left,0,3,0,0,NaN,NaN,0.33\n",
      "Data from COM16: 8/29/2024 10:46:03,23.90,53.44,1.16.3,FR1,20,4.20,NaN,1,Right,Left,0,1,0,0,NaN,NaN,0.02\n",
      "Data from COM12: 8/29/2024 10:52:50,24.15,53.93,1.16.3,FR1,8,4.20,NaN,1,Right,Left,0,1,0,0,NaN,NaN,0.00\n",
      "Data from COM12: 8/29/2024 10:52:52,24.15,53.89,1.16.3,FR1,8,4.20,NaN,1,Left,Left,1,1,0,0,NaN,NaN,0.00\n",
      "Data from COM16: 8/29/2024 10:46:15,23.88,53.49,1.16.3,FR1,20,4.20,NaN,1,Left,Left,1,1,0,0,NaN,NaN,0.00\n",
      "Data from COM19: 8/29/2024 10:57:24,25.34,55.15,1.16.3,FR1,11,3.75,NaN,1,Left,Left,1,3,0,0,NaN,NaN,0.00\n",
      "Data from COM5: 8/29/2024 10:53:01,25.50,56.35,1.16.3,FR1,4,3.63,NaN,1,Left,Left,1,6,0,0,NaN,NaN,0.00\n",
      "Data from COM16: 8/29/2024 10:46:23,23.87,53.50,1.16.3,FR1,20,4.20,NaN,1,PelletInWell,Left,1,1,0,0,NaN,NaN,NaN\n",
      "Data from COM16: 8/29/2024 10:46:30,23.88,53.52,1.16.3,FR1,20,4.20,5,1,Pellet,Left,1,1,1,0,7.24,NaN,NaN\n",
      "Data from COM12: 8/29/2024 10:53:14,24.17,53.87,1.16.3,FR1,8,4.20,NaN,1,PelletInWell,Left,1,1,0,0,NaN,NaN,NaN\n",
      "Data from COM12: 8/29/2024 10:53:17,24.17,53.84,1.16.3,FR1,8,4.20,11,1,Pellet,Left,1,1,1,0,3.45,NaN,NaN\n",
      "Data from COM19: 8/29/2024 10:57:48,25.38,55.03,1.16.3,FR1,11,3.75,NaN,1,PelletInWell,Left,1,3,0,0,NaN,NaN,NaN\n",
      "Data from COM19: 8/29/2024 10:57:49,25.39,55.02,1.16.3,FR1,11,3.76,11,1,Pellet,Left,1,3,1,0,1.44,NaN,NaN\n",
      "Data from COM5: 8/29/2024 10:53:26,25.52,56.28,1.16.3,FR1,4,3.63,NaN,1,PelletInWell,Left,1,6,0,0,NaN,NaN,NaN\n",
      "Data from COM5: 8/29/2024 10:53:30,25.53,56.29,1.16.3,FR1,4,3.63,11,1,Pellet,Left,1,6,1,0,3.56,NaN,NaN\n",
      "Data from COM5: 8/29/2024 10:53:32,25.53,56.34,1.16.3,FR1,4,3.63,NaN,1,Left,Left,2,6,1,0,NaN,NaN,0.00\n",
      "Data from COM19: 8/29/2024 10:57:59,25.40,54.96,1.16.3,FR1,11,3.75,NaN,1,Left,Left,2,3,1,0,NaN,NaN,0.00\n",
      "Data from COM12: 8/29/2024 10:53:32,24.19,53.82,1.16.3,FR1,8,4.20,NaN,1,Left,Left,2,1,1,0,NaN,NaN,0.00\n",
      "Data from COM16: 8/29/2024 10:46:54,23.87,53.51,1.16.3,FR1,20,4.20,NaN,1,Left,Left,2,1,1,0,NaN,NaN,0.11\n",
      "Data from COM5: 8/29/2024 10:55:07,25.53,56.28,1.16.3,FR1,4,3.63,NaN,1,JAM,Left,2,6,1,0,NaN,NaN,NaN\n",
      "Data from COM19: 8/29/2024 10:59:33,25.36,55.17,1.16.3,FR1,11,3.75,NaN,1,JAM,Left,2,3,1,0,NaN,NaN,NaN\n",
      "Data from COM12: 8/29/2024 10:55:07,24.33,53.62,1.16.3,FR1,8,4.20,NaN,1,JAM,Left,2,1,1,0,NaN,NaN,NaN\n",
      "Data from COM16: 8/29/2024 10:48:28,23.87,53.51,1.16.3,FR1,20,4.19,NaN,1,JAM,Left,2,1,1,0,NaN,NaN,NaN\n"
     ]
    },
    {
     "name": "stderr",
     "output_type": "stream",
     "text": [
      "Exception in thread Thread-7 (read_from_port):\n",
      "Traceback (most recent call last):\n",
      "  File \"C:\\Users\\hta031\\AppData\\Local\\miniconda3\\envs\\RTFED\\Lib\\threading.py\", line 1073, in _bootstrap_inner\n",
      "    self.run()\n",
      "  File \"C:\\Users\\hta031\\AppData\\Local\\miniconda3\\envs\\RTFED\\Lib\\site-packages\\ipykernel\\ipkernel.py\", line 766, in run_closure\n",
      "    _threading_Thread_run(self)\n",
      "  File \"C:\\Users\\hta031\\AppData\\Local\\miniconda3\\envs\\RTFED\\Lib\\threading.py\", line 1010, in run\n",
      "    self._target(*self._args, **self._kwargs)\n",
      "  File \"C:\\Users\\hta031\\AppData\\Local\\Temp\\ipykernel_96852\\906116238.py\", line 48, in read_from_port\n",
      "  File \"C:\\Users\\hta031\\AppData\\Local\\miniconda3\\envs\\RTFED\\Lib\\site-packages\\serial\\serialwin32.py\", line 275, in read\n",
      "    raise SerialException(\"ClearCommError failed ({!r})\".format(ctypes.WinError()))\n",
      "serial.serialutil.SerialException: ClearCommError failed (PermissionError(13, 'The device does not recognize the command.', None, 22))\n"
     ]
    },
    {
     "name": "stdout",
     "output_type": "stream",
     "text": [
      "Data from COM16: \n",
      "Warning: Data length 0 does not match header length 17\n"
     ]
    },
    {
     "name": "stderr",
     "output_type": "stream",
     "text": [
      "Exception in thread Thread-6 (read_from_port):\n",
      "Traceback (most recent call last):\n",
      "  File \"C:\\Users\\hta031\\AppData\\Local\\miniconda3\\envs\\RTFED\\Lib\\threading.py\", line 1073, in _bootstrap_inner\n",
      "    self.run()\n",
      "  File \"C:\\Users\\hta031\\AppData\\Local\\miniconda3\\envs\\RTFED\\Lib\\site-packages\\ipykernel\\ipkernel.py\", line 766, in run_closure\n",
      "    _threading_Thread_run(self)\n",
      "  File \"C:\\Users\\hta031\\AppData\\Local\\miniconda3\\envs\\RTFED\\Lib\\threading.py\", line 1010, in run\n",
      "    self._target(*self._args, **self._kwargs)\n",
      "  File \"C:\\Users\\hta031\\AppData\\Local\\Temp\\ipykernel_96852\\906116238.py\", line 48, in read_from_port\n",
      "  File \"C:\\Users\\hta031\\AppData\\Local\\miniconda3\\envs\\RTFED\\Lib\\site-packages\\serial\\serialwin32.py\", line 275, in read\n",
      "    raise SerialException(\"ClearCommError failed ({!r})\".format(ctypes.WinError()))\n",
      "serial.serialutil.SerialException: ClearCommError failed (PermissionError(13, 'The device does not recognize the command.', None, 22))\n"
     ]
    },
    {
     "name": "stdout",
     "output_type": "stream",
     "text": [
      "Data from COM12: \n",
      "Warning: Data length 0 does not match header length 17\n"
     ]
    },
    {
     "name": "stderr",
     "output_type": "stream",
     "text": [
      "Exception in thread Thread-8 (read_from_port):\n",
      "Traceback (most recent call last):\n",
      "  File \"C:\\Users\\hta031\\AppData\\Local\\miniconda3\\envs\\RTFED\\Lib\\threading.py\", line 1073, in _bootstrap_inner\n",
      "    self.run()\n",
      "  File \"C:\\Users\\hta031\\AppData\\Local\\miniconda3\\envs\\RTFED\\Lib\\site-packages\\ipykernel\\ipkernel.py\", line 766, in run_closure\n",
      "    _threading_Thread_run(self)\n",
      "  File \"C:\\Users\\hta031\\AppData\\Local\\miniconda3\\envs\\RTFED\\Lib\\threading.py\", line 1010, in run\n",
      "    self._target(*self._args, **self._kwargs)\n",
      "  File \"C:\\Users\\hta031\\AppData\\Local\\Temp\\ipykernel_96852\\906116238.py\", line 48, in read_from_port\n",
      "  File \"C:\\Users\\hta031\\AppData\\Local\\miniconda3\\envs\\RTFED\\Lib\\site-packages\\serial\\serialwin32.py\", line 275, in read\n",
      "    raise SerialException(\"ClearCommError failed ({!r})\".format(ctypes.WinError()))\n",
      "serial.serialutil.SerialException: ClearCommError failed (PermissionError(13, 'The device does not recognize the command.', None, 22))\n"
     ]
    },
    {
     "name": "stdout",
     "output_type": "stream",
     "text": [
      "Data from COM19: \n",
      "Warning: Data length 0 does not match header length 17\n"
     ]
    },
    {
     "name": "stderr",
     "output_type": "stream",
     "text": [
      "Exception in thread Thread-5 (read_from_port):\n",
      "Traceback (most recent call last):\n",
      "  File \"C:\\Users\\hta031\\AppData\\Local\\miniconda3\\envs\\RTFED\\Lib\\threading.py\", line 1073, in _bootstrap_inner\n",
      "    self.run()\n",
      "  File \"C:\\Users\\hta031\\AppData\\Local\\miniconda3\\envs\\RTFED\\Lib\\site-packages\\ipykernel\\ipkernel.py\", line 766, in run_closure\n",
      "    _threading_Thread_run(self)\n",
      "  File \"C:\\Users\\hta031\\AppData\\Local\\miniconda3\\envs\\RTFED\\Lib\\threading.py\", line 1010, in run\n",
      "    self._target(*self._args, **self._kwargs)\n",
      "  File \"C:\\Users\\hta031\\AppData\\Local\\Temp\\ipykernel_96852\\906116238.py\", line 48, in read_from_port\n",
      "  File \"C:\\Users\\hta031\\AppData\\Local\\miniconda3\\envs\\RTFED\\Lib\\site-packages\\serial\\serialwin32.py\", line 275, in read\n",
      "    raise SerialException(\"ClearCommError failed ({!r})\".format(ctypes.WinError()))\n",
      "serial.serialutil.SerialException: ClearCommError failed (PermissionError(13, 'The device does not recognize the command.', None, 22))\n"
     ]
    },
    {
     "name": "stdout",
     "output_type": "stream",
     "text": [
      "Data from COM5: \n",
      "Warning: Data length 0 does not match header length 17\n"
     ]
    }
   ],
   "source": [
    "import serial\n",
    "import threading\n",
    "import datetime  \n",
    "import gspread\n",
    "from google.oauth2.service_account import Credentials\n",
    "\n",
    "# the data coming from serial monitor is separated by \",\" and stored in one single string\n",
    "# Define the column headers based on your desired CSV structure\n",
    "\n",
    "column_headers = [\n",
    "    \"MM/DD/YYYY hh:mm:ss.SSS\", \"Temp\", \"Humidity\", \"Library_Version\", \"Session_type\",\n",
    "    \"Device_Number\", \"Battery_Voltage\", \"Motor_Turns\", \"FR\", \"Event\", \"Active_Poke\",\n",
    "    \"Left_Poke_Count\", \"Right_Poke_Count\", \"Pellet_Count\", \"Block_Pellet_Count\",\n",
    "    \"Retrieval_Time\", \"InterPelletInterval\", \"Poke_Time\"\n",
    "]\n",
    "\n",
    "# Here we setup the Google Sheets\n",
    "SCOPE = [\"https://spreadsheets.google.com/feeds\", 'https://www.googleapis.com/auth/spreadsheets',\n",
    "         \"https://www.googleapis.com/auth/drive.file\", \"https://www.googleapis.com/auth/drive\"]\n",
    "\n",
    "# Path to your downloaded JSON file(the file you downloaded making API on google console service)\n",
    "CREDS_FILE = r\"C:\\Users\\hta031\\Github\\rtfed-432707-fe18d041b295.json\"\n",
    "\n",
    "creds = Credentials.from_service_account_file(CREDS_FILE, scopes=SCOPE)\n",
    "client = gspread.authorize(creds)\n",
    "\n",
    "# Replace with the ID of your Google Sheets document\n",
    "# open your spreadsheet on your Google drive, in the address bar, copy the ID which is between \"/d/\" and \"/edit\"\n",
    "SPREADSHEET_ID = \"1oybqWp_7b9_oiR-a1Xy0YLw8LwvGfqtmSz2lYfEzrBk\"\n",
    "\n",
    "def get_or_create_worksheet(spreadsheet, title):\n",
    "    try:\n",
    "        # Try to open the worksheet by title\n",
    "        sheet = spreadsheet.worksheet(title)\n",
    "        print(f\"Worksheet '{title}' found.\")\n",
    "    except gspread.exceptions.WorksheetNotFound:\n",
    "        # If the worksheet is not found, create it\n",
    "        print(f\"Worksheet '{title}' not found. Creating a new one.\")\n",
    "        sheet = spreadsheet.add_worksheet(title=title, rows=\"1000\", cols=\"20\")\n",
    "        sheet.append_row(column_headers)\n",
    "    return sheet\n",
    "\n",
    "def read_from_port(ser, worksheet_name):\n",
    "    spreadsheet = client.open_by_key(SPREADSHEET_ID)\n",
    "    sheet = get_or_create_worksheet(spreadsheet, worksheet_name)\n",
    "    \n",
    "    while True:\n",
    "        data = ser.readline().decode('utf-8').strip()\n",
    "        data_list = data.split(\",\")  # Split the data string into a list\n",
    "        timestamp = datetime.datetime.now().strftime(\"%Y-%m-%d %H:%M:%S.%f\")[:-3]  # Get current timestamp with milliseconds\n",
    "        # to sync all the FED units with each other, I tend not to rely on FED clock,\n",
    "        # Ignore the first field (timestamp from FED device) and use the computer's timestamp\n",
    "        data_list = data_list[1:]  # Skip the FED device timestamp\n",
    "        \n",
    "        print(f\"Data from {ser.port}: {data}\")\n",
    "\n",
    "        # Assuming the data matches the order of the remaining column_headers\n",
    "        if len(data_list) == len(column_headers) - 1:  # -1 because timestamp is added\n",
    "            # Append the row to Google Sheet\n",
    "            sheet.append_row([timestamp] + data_list)\n",
    "        else:\n",
    "            print(f\"Warning: Data length {len(data_list)} does not match header length {len(column_headers) - 1}\")\n",
    "\n",
    "# Define your ports and baud rate\n",
    "ports = [\"COM5\",\"COM12\",\"COM16\",\"COM19\"]  # Replace with your COM ports, on Mac systems the port number is different and longer\n",
    "baud_rate = 115200\n",
    "\n",
    "# Start reading from each port in a separate thread\n",
    "for port in ports:\n",
    "    worksheet_name = f\"Port_{port}\"  # Create a unique worksheet name for each port\n",
    "    ser = serial.Serial(port, baud_rate)\n",
    "    threading.Thread(target=read_from_port, args=(ser, worksheet_name)).start()\n"
   ]
  },
  {
   "cell_type": "code",
   "execution_count": null,
   "id": "ebeda0e6-8819-46eb-8686-1a76762d20ca",
   "metadata": {},
   "outputs": [],
   "source": []
  }
 ],
 "metadata": {
  "kernelspec": {
   "display_name": "Python 3 (ipykernel)",
   "language": "python",
   "name": "python3"
  },
  "language_info": {
   "codemirror_mode": {
    "name": "ipython",
    "version": 3
   },
   "file_extension": ".py",
   "mimetype": "text/x-python",
   "name": "python",
   "nbconvert_exporter": "python",
   "pygments_lexer": "ipython3",
   "version": "3.12.1"
  }
 },
 "nbformat": 4,
 "nbformat_minor": 5
}
